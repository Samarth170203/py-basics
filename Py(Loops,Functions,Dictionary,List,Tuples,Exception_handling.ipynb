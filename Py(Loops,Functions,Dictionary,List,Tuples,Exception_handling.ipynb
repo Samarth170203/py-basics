{
  "nbformat": 4,
  "nbformat_minor": 0,
  "metadata": {
    "colab": {
      "provenance": [],
      "collapsed_sections": [
        "25g_pGYth-Se",
        "Hshx3BGalhdK",
        "bhAPhLBsr4fG",
        "sUmfYCuxwDHu",
        "rGkW4GX61pol",
        "6KTbpeHA3zcN"
      ],
      "include_colab_link": true
    },
    "kernelspec": {
      "name": "python3",
      "display_name": "Python 3"
    }
  },
  "cells": [
    {
      "cell_type": "markdown",
      "metadata": {
        "id": "view-in-github",
        "colab_type": "text"
      },
      "source": [
        "<a href=\"https://colab.research.google.com/github/Samarth170203/py-basics/blob/main/Py(Loops%2CFunctions%2CDictionary%2CList%2CTuples%2CException_handling.ipynb\" target=\"_parent\"><img src=\"https://colab.research.google.com/assets/colab-badge.svg\" alt=\"Open In Colab\"/></a>"
      ]
    },
    {
      "cell_type": "markdown",
      "metadata": {
        "id": "25g_pGYth-Se"
      },
      "source": [
        "#while loop in Python Programming\n",
        "A while loop statement in Python programming language repeatedly executes a target statement as long as a given condition is true."
      ]
    },
    {
      "cell_type": "code",
      "metadata": {
        "id": "vMEwucoOhzZy",
        "colab": {
          "base_uri": "https://localhost:8080/"
        },
        "outputId": "51116098-ea38-40de-aac5-a1209aaaa519"
      },
      "source": [
        "# while statement is like if statement.\n",
        "i = 0\n",
        "while i<5:\n",
        "  print (i)\n",
        "  i= i+1"
      ],
      "execution_count": null,
      "outputs": [
        {
          "output_type": "stream",
          "name": "stdout",
          "text": [
            "0\n",
            "1\n",
            "2\n",
            "3\n",
            "4\n"
          ]
        }
      ]
    },
    {
      "cell_type": "code",
      "metadata": {
        "id": "bzBFobjqi0yi",
        "colab": {
          "base_uri": "https://localhost:8080/"
        },
        "outputId": "316cdf4f-30ba-4a2a-8a00-3dd3ce062fba"
      },
      "source": [
        "# A break statement is used to break from a loop\n",
        "i = 0\n",
        "while i<15:\n",
        "  if i==12:\n",
        "    break\n",
        "  print (i)\n",
        "  i= i+1"
      ],
      "execution_count": null,
      "outputs": [
        {
          "output_type": "stream",
          "name": "stdout",
          "text": [
            "0\n",
            "1\n",
            "2\n",
            "3\n",
            "4\n",
            "5\n",
            "6\n",
            "7\n",
            "8\n",
            "9\n",
            "10\n",
            "11\n"
          ]
        }
      ]
    },
    {
      "cell_type": "code",
      "metadata": {
        "id": "LcsOIxJzjy1R",
        "colab": {
          "base_uri": "https://localhost:8080/"
        },
        "outputId": "513df97c-3b34-4ecb-844d-f57401de30ad"
      },
      "source": [
        "# A continue statement stops the flow and goes back again to the starting point of block.\n",
        "#\n",
        "# continue - goes back to start of the block\n",
        "\n",
        "i = 0\n",
        "while i<20:\n",
        "  if (i % 2==0):\n",
        "    i=i+1\n",
        "    print (\"Inside continue\",i)\n",
        "    continue\n",
        "  i=i+2\n",
        "  print (i)\n",
        "  i= i+1"
      ],
      "execution_count": null,
      "outputs": [
        {
          "output_type": "stream",
          "name": "stdout",
          "text": [
            "Inside continue 1\n",
            "3\n",
            "Inside continue 5\n",
            "7\n",
            "Inside continue 9\n",
            "11\n",
            "Inside continue 13\n",
            "15\n",
            "Inside continue 17\n",
            "19\n"
          ]
        }
      ]
    },
    {
      "cell_type": "code",
      "metadata": {
        "id": "2eXllkhHkQ9m",
        "colab": {
          "base_uri": "https://localhost:8080/"
        },
        "outputId": "f447f0fc-82cd-4c1d-c569-b12b17100387"
      },
      "source": [
        "#Using else Statement with While Loop\n",
        "count = 0\n",
        "while count < 15:\n",
        "   print (count, \" is  less than 5\")\n",
        "   count = count + 1\n",
        "else:\n",
        "   print (count, \" is not less than 5\")"
      ],
      "execution_count": null,
      "outputs": [
        {
          "output_type": "stream",
          "name": "stdout",
          "text": [
            "0  is  less than 5\n",
            "1  is  less than 5\n",
            "2  is  less than 5\n",
            "3  is  less than 5\n",
            "4  is  less than 5\n",
            "5  is  less than 5\n",
            "6  is  less than 5\n",
            "7  is  less than 5\n",
            "8  is  less than 5\n",
            "9  is  less than 5\n",
            "10  is  less than 5\n",
            "11  is  less than 5\n",
            "12  is  less than 5\n",
            "13  is  less than 5\n",
            "14  is  less than 5\n",
            "15  is not less than 5\n"
          ]
        }
      ]
    },
    {
      "cell_type": "markdown",
      "metadata": {
        "id": "Hshx3BGalhdK"
      },
      "source": [
        "#for loop in Python Programming\n",
        "Executes a sequence of statements multiple times and abbreviates the code that manages the loop variable."
      ]
    },
    {
      "cell_type": "code",
      "metadata": {
        "id": "XR50GT2_kYmU",
        "colab": {
          "base_uri": "https://localhost:8080/"
        },
        "outputId": "7657bec2-71a7-474e-c5cd-ff9b3ccfcd2b"
      },
      "source": [
        "#Print each fruit in a fruit list:\n",
        "fruits = [\"apple\", \"banana\", \"cherry\"]\n",
        "for x in fruits:\n",
        "  print(x)"
      ],
      "execution_count": null,
      "outputs": [
        {
          "output_type": "stream",
          "name": "stdout",
          "text": [
            "apple\n",
            "banana\n",
            "cherry\n"
          ]
        }
      ]
    },
    {
      "cell_type": "code",
      "metadata": {
        "id": "9h0K790JmzQf",
        "colab": {
          "base_uri": "https://localhost:8080/"
        },
        "outputId": "6b00501b-d0c1-4a5e-b7c8-7b8d648e5b56"
      },
      "source": [
        "# Program to find the sum of all numbers stored in a list\n",
        "\n",
        "# List of numbers\n",
        "numbers = [6, 5, 3, -8, 4, 2, 5, 4, 11]\n",
        "\n",
        "# variable to store the sum\n",
        "sum = 0\n",
        "\n",
        "# iterate over the list\n",
        "for val in numbers:\n",
        "\tsum = sum+val\n",
        "\n",
        "print(\"The sum is\", sum)"
      ],
      "execution_count": null,
      "outputs": [
        {
          "output_type": "stream",
          "name": "stdout",
          "text": [
            "The sum is 32\n"
          ]
        }
      ]
    },
    {
      "cell_type": "code",
      "metadata": {
        "id": "_Q6yCbJLm2F-",
        "colab": {
          "base_uri": "https://localhost:8080/"
        },
        "outputId": "62ade391-02a0-4567-cbf7-ab6fc4d53993"
      },
      "source": [
        "#range function\n",
        "#We can generate a sequence of numbers using range() function.\n",
        "print(range(10))\n",
        "\n",
        "print(list(range(10)))\n",
        "\n",
        "print(list(range(2, 8)))\n",
        "\n",
        "print(list(range(2, 20, 3)))"
      ],
      "execution_count": null,
      "outputs": [
        {
          "output_type": "stream",
          "name": "stdout",
          "text": [
            "range(0, 10)\n",
            "[0, 1, 2, 3, 4, 5, 6, 7, 8, 9]\n",
            "[2, 3, 4, 5, 6, 7]\n",
            "[2, 5, 8, 11, 14, 17]\n"
          ]
        }
      ]
    },
    {
      "cell_type": "code",
      "metadata": {
        "id": "dFQgnNYcnZJs",
        "colab": {
          "base_uri": "https://localhost:8080/"
        },
        "outputId": "8a123145-5113-44d9-f047-e7fb946154c0"
      },
      "source": [
        "#Loop through the letters in the word \"banana\":\n",
        "\n",
        "for x in \"banana\":\n",
        "  print(x)"
      ],
      "execution_count": null,
      "outputs": [
        {
          "output_type": "stream",
          "name": "stdout",
          "text": [
            "b\n",
            "a\n",
            "n\n",
            "a\n",
            "n\n",
            "a\n"
          ]
        }
      ]
    },
    {
      "cell_type": "code",
      "metadata": {
        "id": "MVSFPF_6nrNh",
        "colab": {
          "base_uri": "https://localhost:8080/"
        },
        "outputId": "6fddd5a0-b206-4d87-9f53-c43a53b45b34"
      },
      "source": [
        "#for loop with else\n",
        "#A for loop can have an optional else block as well. The else part is executed if the items in the sequence used in for loop exhausts.\n",
        "\n",
        "digits = [0, 1, 5, 32]\n",
        "\n",
        "for i in digits:\n",
        "    print(i)\n",
        "else:\n",
        "    print(\"No items left.\")"
      ],
      "execution_count": null,
      "outputs": [
        {
          "output_type": "stream",
          "name": "stdout",
          "text": [
            "0\n",
            "1\n",
            "5\n",
            "32\n",
            "No items left.\n"
          ]
        }
      ]
    },
    {
      "cell_type": "code",
      "metadata": {
        "id": "IvhBhXGCog9r",
        "colab": {
          "base_uri": "https://localhost:8080/"
        },
        "outputId": "50390f7c-2a86-4ee3-db4b-3a0606c68cd7"
      },
      "source": [
        "#break statement in for loop\n",
        "#Exit the loop when x is \"banana\":\n",
        "\n",
        "fruits = [\"apple\", \"banana\", \"cherry\"]\n",
        "for x in fruits:\n",
        "  print(x)\n",
        "  if x == \"cherry\":\n",
        "    break"
      ],
      "execution_count": null,
      "outputs": [
        {
          "output_type": "stream",
          "name": "stdout",
          "text": [
            "apple\n",
            "banana\n",
            "cherry\n"
          ]
        }
      ]
    },
    {
      "cell_type": "code",
      "metadata": {
        "id": "y6P3HdmPorzO",
        "colab": {
          "base_uri": "https://localhost:8080/"
        },
        "outputId": "c06b2965-5743-4312-8a18-2905ec41b61e"
      },
      "source": [
        "# program to display student's marks from record\n",
        "student_name = 'Sandeep'\n",
        "\n",
        "marks = {'Ankush': 90, 'Divyam': 55, 'Sanjay': 77}\n",
        "\n",
        "for student in marks:\n",
        "    if student == student_name:\n",
        "        print(marks[student])\n",
        "        break\n",
        "else:\n",
        "    print('No entry with that name found.')"
      ],
      "execution_count": null,
      "outputs": [
        {
          "output_type": "stream",
          "name": "stdout",
          "text": [
            "No entry with that name found.\n"
          ]
        }
      ]
    },
    {
      "cell_type": "markdown",
      "metadata": {
        "id": "bhAPhLBsr4fG"
      },
      "source": [
        "#nested loops in Python programming\n",
        "Python programming language allows to use one loop inside another loop. Following section shows few examples to illustrate the concept."
      ]
    },
    {
      "cell_type": "code",
      "metadata": {
        "id": "35VPrPHppG0j",
        "colab": {
          "base_uri": "https://localhost:8080/"
        },
        "outputId": "a62d111b-8be4-45ad-9559-2578b36d252f"
      },
      "source": [
        "#The following program uses a nested for loop to find the prime numbers from 2 to 100 −\n",
        "i = 2\n",
        "while(i < 100):\n",
        "   j = 2\n",
        "   while(j <= (i/j)):\n",
        "      if not(i%j): break\n",
        "      j = j + 1\n",
        "   if (j > i/j) : print (i, \" is prime\")\n",
        "   i = i + 1\n",
        "\n",
        "print (\"Good bye!\")"
      ],
      "execution_count": null,
      "outputs": [
        {
          "output_type": "stream",
          "name": "stdout",
          "text": [
            "2  is prime\n",
            "3  is prime\n",
            "5  is prime\n",
            "7  is prime\n",
            "11  is prime\n",
            "13  is prime\n",
            "17  is prime\n",
            "19  is prime\n",
            "23  is prime\n",
            "29  is prime\n",
            "31  is prime\n",
            "37  is prime\n",
            "41  is prime\n",
            "43  is prime\n",
            "47  is prime\n",
            "53  is prime\n",
            "59  is prime\n",
            "61  is prime\n",
            "67  is prime\n",
            "71  is prime\n",
            "73  is prime\n",
            "79  is prime\n",
            "83  is prime\n",
            "89  is prime\n",
            "97  is prime\n",
            "Good bye!\n"
          ]
        }
      ]
    },
    {
      "cell_type": "code",
      "metadata": {
        "id": "-S72i67nsI1R",
        "colab": {
          "base_uri": "https://localhost:8080/"
        },
        "outputId": "4659f337-38fe-43a7-ac3b-f02bab009d06"
      },
      "source": [
        "#nested loop\n",
        "for i in range(1, 5):\n",
        "    for j in range(i):\n",
        "         print(i, end=' ')\n",
        "    print()"
      ],
      "execution_count": null,
      "outputs": [
        {
          "output_type": "stream",
          "name": "stdout",
          "text": [
            "1 \n",
            "2 2 \n",
            "3 3 3 \n",
            "4 4 4 4 \n"
          ]
        }
      ]
    },
    {
      "cell_type": "markdown",
      "metadata": {
        "id": "ycpk0VQTuJ_Y"
      },
      "source": [
        "#Functions\n",
        "Functions help to reuse code. They bring modularity and simplicity to code"
      ]
    },
    {
      "cell_type": "code",
      "metadata": {
        "id": "s63dUsKrsodA"
      },
      "source": [
        "# functions in python are created using def statement\n",
        "def name_philospher():\n",
        "  print ('Bertrand Russell')\n"
      ],
      "execution_count": null,
      "outputs": []
    },
    {
      "cell_type": "code",
      "metadata": {
        "id": "noWbacmCJ3_o",
        "colab": {
          "base_uri": "https://localhost:8080/"
        },
        "outputId": "113e5155-2713-4efb-872a-2e308be60ce1"
      },
      "source": [
        "name_philospher()"
      ],
      "execution_count": null,
      "outputs": [
        {
          "output_type": "stream",
          "name": "stdout",
          "text": [
            "Bertrand Russell\n"
          ]
        }
      ]
    },
    {
      "cell_type": "code",
      "metadata": {
        "id": "7gCcehEFumy7"
      },
      "source": [
        "# One can pass arguments to functions\n",
        "# name is an argument for the function name_of_philosphers\n",
        "\n",
        "def name_philospher(name, country):\n",
        "  print (name,country)\n"
      ],
      "execution_count": null,
      "outputs": []
    },
    {
      "cell_type": "code",
      "metadata": {
        "id": "aDEk0IbiJ-zu",
        "colab": {
          "base_uri": "https://localhost:8080/"
        },
        "outputId": "5e0e6a1c-3c93-4736-d269-d8f9b3f6fb63"
      },
      "source": [
        "name_philospher('Bertrand Russell', '- United Kingdom')\n",
        "name_philospher('Carl Marx', '- Germany')"
      ],
      "execution_count": null,
      "outputs": [
        {
          "output_type": "stream",
          "name": "stdout",
          "text": [
            "Bertrand Russell - United Kingdom\n",
            "Carl Marx - Germany\n"
          ]
        }
      ]
    },
    {
      "cell_type": "code",
      "metadata": {
        "id": "OoZweM0QuyT1",
        "colab": {
          "base_uri": "https://localhost:8080/"
        },
        "outputId": "967a3ad9-5c83-45ec-e363-8c7dd38d3aed"
      },
      "source": [
        "#function can  return values\n",
        "\n",
        "def name_of_philospher(name,country):\n",
        "  str = \"The philosopher {} lived in  country {}\".format(name,country)\n",
        "  return str\n",
        "\n",
        "name = name_of_philospher('Bertrand Russell','United Kingdom')\n",
        "print (name)"
      ],
      "execution_count": null,
      "outputs": [
        {
          "output_type": "stream",
          "name": "stdout",
          "text": [
            "The philosopher Bertrand Russell lived in  country United Kingdom\n"
          ]
        }
      ]
    },
    {
      "cell_type": "code",
      "metadata": {
        "id": "lWO-1C6CvG5q",
        "colab": {
          "base_uri": "https://localhost:8080/"
        },
        "outputId": "90b4b82a-8c19-4f02-b14d-d48235b13e29"
      },
      "source": [
        "# function can return multiple values\n",
        "# The function adds and subtsracts two numbers\n",
        "def add_and_substract(num1,num2):\n",
        "    add = num1+num2\n",
        "    diff = num1-num2\n",
        "    return add,diff\n",
        "\n",
        "add,diff = add_and_substract(10,2)\n",
        "\n",
        "print (\"The sum is =\",add)\n",
        "print (\"The difference is =\",diff)"
      ],
      "execution_count": null,
      "outputs": [
        {
          "output_type": "stream",
          "name": "stdout",
          "text": [
            "The sum is = 12\n",
            "The difference is = 8\n"
          ]
        }
      ]
    },
    {
      "cell_type": "code",
      "metadata": {
        "id": "-JFJgyELvhPv",
        "colab": {
          "base_uri": "https://localhost:8080/"
        },
        "outputId": "819f2ada-38f3-437b-f98d-31cf26591e16"
      },
      "source": [
        "# Functions are just like normal variables. They can be assigned and reassigned to variables\n",
        "\n",
        "def add_and_substract(num1,num2):\n",
        "    \"\"\"\n",
        "     The function adds and subtsracts two numbers\n",
        "    \"\"\"\n",
        "    add = num1+num2\n",
        "    diff = num1-num2\n",
        "    return add,diff\n",
        "\n",
        "operation = add_and_substract\n",
        "\n",
        "num1, num2 = operation(10,2)\n",
        "print (num1, num2)\n"
      ],
      "execution_count": null,
      "outputs": [
        {
          "output_type": "stream",
          "name": "stdout",
          "text": [
            "12 8\n"
          ]
        }
      ]
    },
    {
      "cell_type": "code",
      "metadata": {
        "id": "pSXRTqf_vlzp",
        "colab": {
          "base_uri": "https://localhost:8080/"
        },
        "outputId": "9b5b05b0-f6f0-43ab-db0d-72f14f9184e0"
      },
      "source": [
        "# The special syntax, *args and **kwargs in function definitions is used to pass a variable number of arguments to a function.\n",
        "\n",
        "# The single asterisk form (*args) is used to pass a non-keyworded, variable-length argument list,\n",
        "# and the double asterisk form is used to pass a keyworded, variable-length argument list.\n",
        "\n",
        "\n",
        "def add_numbers(*args):\n",
        "\n",
        "  for i in args:\n",
        "    print (i)\n",
        "\n",
        "add_numbers(1,2,3,4,5)\n",
        "\n",
        "\n",
        "\n",
        "def add_numbers(**kwargs):\n",
        "    for key in kwargs:\n",
        "        print (\"another keyword arg: {}: {}\".format(key, kwargs[key]))\n",
        "\n",
        "\n",
        "add_numbers(num1=1,num2=2,num3=3,num4=4,num5=5)"
      ],
      "execution_count": null,
      "outputs": [
        {
          "output_type": "stream",
          "name": "stdout",
          "text": [
            "1\n",
            "2\n",
            "3\n",
            "4\n",
            "5\n",
            "another keyword arg: num1: 1\n",
            "another keyword arg: num2: 2\n",
            "another keyword arg: num3: 3\n",
            "another keyword arg: num4: 4\n",
            "another keyword arg: num5: 5\n"
          ]
        }
      ]
    },
    {
      "cell_type": "markdown",
      "metadata": {
        "id": "sUmfYCuxwDHu"
      },
      "source": [
        "#Dictionary\n",
        "Python dictionary is an unordered collection of items. Each item of a dictionary has a key/value pair."
      ]
    },
    {
      "cell_type": "code",
      "metadata": {
        "id": "dFWEfNBVzLbs",
        "colab": {
          "base_uri": "https://localhost:8080/"
        },
        "outputId": "27cd5b4c-5181-4ac1-969c-0c8191f34c47"
      },
      "source": [
        "#Accessing Values in Dictionary\n",
        "dict = {'Name': 'Zara', 'Age': 7, 'Class': 'First'}\n",
        "print (\"dict['Name']: \", dict['Name'])\n",
        "print (\"dict['Age']: \", dict['Age'])"
      ],
      "execution_count": null,
      "outputs": [
        {
          "output_type": "stream",
          "name": "stdout",
          "text": [
            "dict['Name']:  Zara\n",
            "dict['Age']:  7\n"
          ]
        }
      ]
    },
    {
      "cell_type": "code",
      "metadata": {
        "id": "zi8b7SsIvv0G",
        "colab": {
          "base_uri": "https://localhost:8080/"
        },
        "outputId": "0a9589df-fcea-4d5e-8fe0-14de22ae530c"
      },
      "source": [
        "# Dictionaries are data structures used to map key to values\n",
        "\n",
        "philosphers = {\"United Kingdom\":\"Bertrand Russell\", \"Germany\":\"Karl Marx\"}\n",
        "\n",
        "print (philosphers[\"United Kingdom\"])\n",
        "print (philosphers[\"Germany\"])"
      ],
      "execution_count": null,
      "outputs": [
        {
          "output_type": "stream",
          "name": "stdout",
          "text": [
            "Bertrand Russell\n",
            "Karl Marx\n"
          ]
        }
      ]
    },
    {
      "cell_type": "code",
      "metadata": {
        "id": "qMB2_uXGwvbm",
        "colab": {
          "base_uri": "https://localhost:8080/"
        },
        "outputId": "846cc427-5627-492e-f483-ec90b2ce468c"
      },
      "source": [
        "philosphers = {\"UK\":\"Bertrand Russell\", \"Germany\":\"Karl Marx\", \"India\":None}\n",
        "\n",
        "philosphers[\"India\"] = \"AryaBhatt\"              #One can assign a existing key to new value\n",
        "philosphers[\"United Kingdom\"] = \"John Mill\" #One can assign a existing key to new value\n",
        "philosphers[\"United States\"] = \"John Dewey\" # One can create a new key and assign a value\n",
        "\n",
        "print (philosphers)"
      ],
      "execution_count": null,
      "outputs": [
        {
          "output_type": "stream",
          "name": "stdout",
          "text": [
            "{'UK': 'Bertrand Russell', 'Germany': 'Karl Marx', 'India': 'AryaBhatt', 'United Kingdom': 'John Mill', 'United States': 'John Dewey'}\n"
          ]
        }
      ]
    },
    {
      "cell_type": "code",
      "metadata": {
        "id": "i9dMlW3owxK_",
        "colab": {
          "base_uri": "https://localhost:8080/"
        },
        "outputId": "4d5e69df-e142-4a71-c581-8311c8e0f412"
      },
      "source": [
        "# One can determine whether a key is present in dictionary or not (using \"in\" and \"not in\")\n",
        "\n",
        "philosphers = {\"UK\":\"Bertrand Russell\", \"Germany\":\"Karl Marx\", \"India\":\"Arya Bhatt\"}\n",
        "\n",
        "print (\"India\" in philosphers)\n",
        "print (\"Brazil\" in philosphers)\n",
        "print (\"Brazil\" not in philosphers)\n",
        "\n",
        "\n",
        "print(philosphers)"
      ],
      "execution_count": null,
      "outputs": [
        {
          "output_type": "stream",
          "name": "stdout",
          "text": [
            "True\n",
            "False\n",
            "True\n",
            "{'UK': 'Bertrand Russell', 'Germany': 'Karl Marx', 'India': 'Arya Bhatt'}\n"
          ]
        }
      ]
    },
    {
      "cell_type": "code",
      "metadata": {
        "id": "_79fk3vvw8Ym",
        "colab": {
          "base_uri": "https://localhost:8080/"
        },
        "outputId": "986221e7-9ef5-4cb6-be2c-2a5b686aeaad"
      },
      "source": [
        "# using keys, values and items in dictionary\n",
        "\n",
        "philosphers = {\"UK\":\"Bertrand Russell\", \"Germany\":\"Karl Marx\", \"India\":\"Arya Bhatt\"}\n",
        "\n",
        "print (philosphers.keys())\n",
        "\n",
        "print(type(philosphers.keys()))\n",
        "\n",
        "print (philosphers.values())\n",
        "print(type(philosphers.values()))\n",
        "\n",
        "print (philosphers.items())\n",
        "print(type(philosphers.items()))"
      ],
      "execution_count": null,
      "outputs": [
        {
          "output_type": "stream",
          "name": "stdout",
          "text": [
            "dict_keys(['UK', 'Germany', 'India'])\n",
            "<class 'dict_keys'>\n",
            "dict_values(['Bertrand Russell', 'Karl Marx', 'Arya Bhatt'])\n",
            "<class 'dict_values'>\n",
            "dict_items([('UK', 'Bertrand Russell'), ('Germany', 'Karl Marx'), ('India', 'Arya Bhatt')])\n",
            "<class 'dict_items'>\n"
          ]
        }
      ]
    },
    {
      "cell_type": "markdown",
      "metadata": {
        "id": "KtRUjXbhx6tg"
      },
      "source": [
        "#List\n",
        "A list denotes a container object in python and it is used to store indexed list of items. A list can contain different types of items for e.g. string, integer or other list."
      ]
    },
    {
      "cell_type": "code",
      "metadata": {
        "id": "QAcWa48fxIrB",
        "colab": {
          "base_uri": "https://localhost:8080/"
        },
        "outputId": "e042301d-e841-4c90-8656-78a1940c6329"
      },
      "source": [
        "word_list = ['This', 'is', 'good']  # A list of 3 items\n",
        "\n",
        "print (word_list[0]) # prints the first  item. Index starts at 0.\n",
        "print (word_list[1]) # prints the second item\n",
        "print (word_list[2]) # print the third item\n",
        "\n",
        "\n",
        "# An empty list is created with empty bracket\n",
        "empty = []\n",
        "print (empty)"
      ],
      "execution_count": null,
      "outputs": [
        {
          "output_type": "stream",
          "name": "stdout",
          "text": [
            "This\n",
            "is\n",
            "good\n",
            "[]\n"
          ]
        }
      ]
    },
    {
      "cell_type": "code",
      "metadata": {
        "id": "_7I7RqIT0FvX",
        "colab": {
          "base_uri": "https://localhost:8080/"
        },
        "outputId": "9ea67c70-5adf-4fa0-8d3b-2ec26c70f174"
      },
      "source": [
        "# Negative indexing in lists\n",
        "my_list = ['p','r','o','b','e']\n",
        "\n",
        "print(my_list[-1])\n",
        "\n",
        "print(my_list[-5])"
      ],
      "execution_count": null,
      "outputs": [
        {
          "output_type": "stream",
          "name": "stdout",
          "text": [
            "e\n",
            "p\n"
          ]
        }
      ]
    },
    {
      "cell_type": "code",
      "metadata": {
        "id": "CI9-jD1R0T7v",
        "colab": {
          "base_uri": "https://localhost:8080/"
        },
        "outputId": "ff383066-b613-4586-ffb1-9361f5747750"
      },
      "source": [
        "# List slicing in Python\n",
        "\n",
        "my_list = ['S','a','n','j','a','y']\n",
        "\n",
        "# elements 3rd to 5th\n",
        "print(my_list[2:5])\n",
        "\n",
        "# elements beginning to 4th\n",
        "print(my_list[:-5])\n",
        "\n",
        "# elements 6th to end\n",
        "print(my_list[5:])\n",
        "\n",
        "# elements beginning to end\n",
        "print(my_list[:])"
      ],
      "execution_count": null,
      "outputs": [
        {
          "output_type": "stream",
          "name": "stdout",
          "text": [
            "['n', 'j', 'a']\n",
            "['S']\n",
            "['y']\n",
            "['S', 'a', 'n', 'j', 'a', 'y']\n"
          ]
        }
      ]
    },
    {
      "cell_type": "code",
      "metadata": {
        "id": "fcoFT5Lf03wm",
        "colab": {
          "base_uri": "https://localhost:8080/"
        },
        "outputId": "9dabda57-3dfb-4602-9f36-1b1595fb78bc"
      },
      "source": [
        "# Correcting mistake values in a list\n",
        "odd = [2, 4, 6, 8]\n",
        "\n",
        "# change the 1st item\n",
        "odd[0] = 1\n",
        "\n",
        "print(odd)\n",
        "\n",
        "# change 2nd to 4th items\n",
        "odd[1:4] = [3, 5, 7]\n",
        "\n",
        "print(odd)"
      ],
      "execution_count": null,
      "outputs": [
        {
          "output_type": "stream",
          "name": "stdout",
          "text": [
            "[1, 4, 6, 8]\n",
            "[1, 3, 5, 7]\n"
          ]
        }
      ]
    },
    {
      "cell_type": "code",
      "metadata": {
        "id": "HFf_Xrjr0_Ba",
        "colab": {
          "base_uri": "https://localhost:8080/"
        },
        "outputId": "8f9f4560-eed2-405a-ffa3-e00c9c3f3592"
      },
      "source": [
        "# Appending and Extending lists in Python\n",
        "odd = [1, 3, 5]\n",
        "\n",
        "odd.append(7)\n",
        "\n",
        "print(odd)\n",
        "\n",
        "odd.extend([9, 11, 13])\n",
        "\n",
        "print(odd)"
      ],
      "execution_count": null,
      "outputs": [
        {
          "output_type": "stream",
          "name": "stdout",
          "text": [
            "[1, 3, 5, 7]\n",
            "[1, 3, 5, 7, 9, 11, 13]\n"
          ]
        }
      ]
    },
    {
      "cell_type": "code",
      "metadata": {
        "id": "u0xNZYt_1DX9",
        "colab": {
          "base_uri": "https://localhost:8080/"
        },
        "outputId": "c157b1bb-dcac-42d2-f965-76876f709ad6"
      },
      "source": [
        "# Concatenating\n",
        "odd = [1, 3, 5]\n",
        "\n",
        "print(odd + [9, 7, 5])\n"
      ],
      "execution_count": null,
      "outputs": [
        {
          "output_type": "stream",
          "name": "stdout",
          "text": [
            "[1, 3, 5, 9, 7, 5]\n"
          ]
        }
      ]
    },
    {
      "cell_type": "code",
      "metadata": {
        "id": "07pBL1I61NjN",
        "colab": {
          "base_uri": "https://localhost:8080/"
        },
        "outputId": "b5fca260-6da0-49a5-dc0e-308d98c9c9ab"
      },
      "source": [
        "# Deleting list items\n",
        "my_list = ['p', 'r', 'o', 'b', 'l', 'e', 'm']\n",
        "\n",
        "# delete one item\n",
        "del my_list[2]\n",
        "\n",
        "print(my_list)\n",
        "\n",
        "# delete multiple items\n",
        "del my_list[1:5]\n",
        "\n",
        "print(my_list)\n",
        "# delete entire list\n",
        "\n"
      ],
      "execution_count": null,
      "outputs": [
        {
          "output_type": "stream",
          "name": "stdout",
          "text": [
            "['p', 'r', 'b', 'l', 'e', 'm']\n",
            "['p', 'm']\n"
          ]
        }
      ]
    },
    {
      "cell_type": "code",
      "metadata": {
        "id": "vpfo1G7kuyRd"
      },
      "source": [],
      "execution_count": null,
      "outputs": []
    },
    {
      "cell_type": "code",
      "metadata": {
        "id": "DT41UsDe1fMc",
        "colab": {
          "base_uri": "https://localhost:8080/"
        },
        "outputId": "44b542fb-7e03-4f82-f3fe-e2e67b9494e4"
      },
      "source": [
        "# Python list methods\n",
        "my_list = [3, 8, 1, 6, 0, 8, 4]\n",
        "\n",
        "# Output: 1\n",
        "print(my_list.index(8))\n",
        "\n",
        "# Output: 2\n",
        "print(my_list.count(8))\n",
        "\n",
        "my_list.sort()\n",
        "\n",
        "# Output: [0, 1, 3, 4, 6, 8, 8]\n",
        "print(my_list)\n",
        "\n",
        "my_list.reverse()\n",
        "\n",
        "# Output: [8, 8, 6, 4, 3, 1, 0]\n",
        "print(my_list)"
      ],
      "execution_count": null,
      "outputs": [
        {
          "output_type": "stream",
          "name": "stdout",
          "text": [
            "1\n",
            "2\n",
            "[0, 1, 3, 4, 6, 8, 8]\n",
            "[8, 8, 6, 4, 3, 1, 0]\n"
          ]
        }
      ]
    },
    {
      "cell_type": "code",
      "metadata": {
        "id": "iemv69sHz9Jt",
        "colab": {
          "base_uri": "https://localhost:8080/"
        },
        "outputId": "1db4cbb5-af96-4286-f8a3-ca7d8894b0a1"
      },
      "source": [
        "# A list can contain items of multiple types\n",
        "\n",
        "generic_list = [1,\"String\",[1,2,3], 5]\n",
        "\n",
        "print ('Value at {} is {} of type {}'.format(0,generic_list[0],type(generic_list[0])))\n",
        "print ('Value at {} is {} of type {}'.format(1,generic_list[1],type(generic_list[1])))\n",
        "print ('Value at {} is {} of type {}'.format(2,generic_list[2],type(generic_list[2])))\n",
        "print ('Value at {} is {} of type {}'.format(3,generic_list[3],type(generic_list[3])))\n",
        "\n",
        "\n",
        "# nested list access\n",
        "\n",
        "print ('Accessing {} value from nested list {} = {}'.format(1,generic_list[2] ,generic_list[2][1]))"
      ],
      "execution_count": null,
      "outputs": [
        {
          "output_type": "stream",
          "name": "stdout",
          "text": [
            "Value at 0 is 1 of type <class 'int'>\n",
            "Value at 1 is String of type <class 'str'>\n",
            "Value at 2 is [1, 2, 3] of type <class 'list'>\n",
            "Value at 3 is 5 of type <class 'int'>\n",
            "Accessing 1 value from nested list [1, 2, 3] = 2\n"
          ]
        }
      ]
    },
    {
      "cell_type": "markdown",
      "metadata": {
        "id": "rGkW4GX61pol"
      },
      "source": [
        "#Tuples\n",
        "A tuple in Python is similar to a list. The difference between the two is that we cannot change the elements of a tuple once it is assigned whereas we can change the elements of a list."
      ]
    },
    {
      "cell_type": "code",
      "metadata": {
        "id": "o_2bt9om0sH9",
        "colab": {
          "base_uri": "https://localhost:8080/"
        },
        "outputId": "0e668909-c488-45bc-fce5-5159b10f99d0"
      },
      "source": [
        "# Different types of tuples\n",
        "\n",
        "# Empty tuple\n",
        "my_tuple = ()\n",
        "print(my_tuple)\n",
        "\n",
        "# Tuple having integers\n",
        "my_tuple = (1, 2, 3)\n",
        "print(my_tuple)\n",
        "\n",
        "# tuple with mixed datatypes\n",
        "my_tuple = (1, \"Hello\", 3.4)\n",
        "print(my_tuple)\n",
        "\n",
        "# nested tuple\n",
        "my_tuple = (\"mouse\", [8, 4, 6], (1, 2, 3))\n",
        "print(my_tuple)"
      ],
      "execution_count": 1,
      "outputs": [
        {
          "output_type": "stream",
          "name": "stdout",
          "text": [
            "()\n",
            "(1, 2, 3)\n",
            "(1, 'Hello', 3.4)\n",
            "('mouse', [8, 4, 6], (1, 2, 3))\n"
          ]
        }
      ]
    },
    {
      "cell_type": "code",
      "metadata": {
        "id": "rsfLyczV15E3",
        "colab": {
          "base_uri": "https://localhost:8080/"
        },
        "outputId": "657d7de4-3cea-4445-98ec-9b6f7a4b97e5"
      },
      "source": [
        "my_tuple = 3, 4.6, \"dog\"\n",
        "print(my_tuple)\n",
        "\n",
        "# tuple unpacking is also possible\n",
        "a, b, c = my_tuple\n",
        "\n",
        "print(a)      # 3\n",
        "print(b)      # 4.6\n",
        "print(c)      # dog"
      ],
      "execution_count": 2,
      "outputs": [
        {
          "output_type": "stream",
          "name": "stdout",
          "text": [
            "(3, 4.6, 'dog')\n",
            "3\n",
            "4.6\n",
            "dog\n"
          ]
        }
      ]
    },
    {
      "cell_type": "code",
      "metadata": {
        "id": "xrLZREFr1_RX",
        "colab": {
          "base_uri": "https://localhost:8080/"
        },
        "outputId": "9824e75d-ae79-4aa4-8c44-d3494d92fd6b"
      },
      "source": [
        "my_tuple = (\"hello\")\n",
        "print(type(my_tuple))  # <class 'str'>\n",
        "\n",
        "# Creating a tuple having one element\n",
        "my_tuple = (\"hello\",)\n",
        "print(type(my_tuple))  # <class 'tuple'>\n",
        "\n",
        "# Parentheses is optional\n",
        "my_tuple = \"hello\"\n",
        "print(type(my_tuple))  # <class 'tuple'>"
      ],
      "execution_count": 3,
      "outputs": [
        {
          "output_type": "stream",
          "name": "stdout",
          "text": [
            "<class 'str'>\n",
            "<class 'tuple'>\n",
            "<class 'str'>\n"
          ]
        }
      ]
    },
    {
      "cell_type": "code",
      "metadata": {
        "id": "qEkeZQx-2Lox",
        "colab": {
          "base_uri": "https://localhost:8080/"
        },
        "outputId": "4cead1c4-f0fc-45d0-efc9-f0c1773879ca"
      },
      "source": [
        "# Accessing tuple elements using indexing\n",
        "my_tuple = ('p','e','r','m','i','t')\n",
        "\n",
        "print(my_tuple[0])   # 'p'\n",
        "print(my_tuple[5])   # 't'"
      ],
      "execution_count": 4,
      "outputs": [
        {
          "output_type": "stream",
          "name": "stdout",
          "text": [
            "p\n",
            "t\n"
          ]
        }
      ]
    },
    {
      "cell_type": "code",
      "metadata": {
        "id": "PjYgCUhn2R46",
        "colab": {
          "base_uri": "https://localhost:8080/"
        },
        "outputId": "4199ec98-a317-48f1-c690-191477b1703c"
      },
      "source": [
        "# nested tuple\n",
        "n_tuple = (\"mouse\", [8, 4, 6], (1, 2, 3))\n",
        "\n",
        "# nested index\n",
        "print(n_tuple[0][3])       # 's'\n",
        "print(n_tuple[1][1])       # 4"
      ],
      "execution_count": 5,
      "outputs": [
        {
          "output_type": "stream",
          "name": "stdout",
          "text": [
            "s\n",
            "4\n"
          ]
        }
      ]
    },
    {
      "cell_type": "code",
      "metadata": {
        "id": "DTlIjKnF2eRo",
        "colab": {
          "base_uri": "https://localhost:8080/"
        },
        "outputId": "5dd30a3e-9726-4699-ed4a-c535dfc731b0"
      },
      "source": [
        "# Negative indexing for accessing tuple elements\n",
        "my_tuple = ('p', 'e', 'r', 'm', 'i', 't')\n",
        "\n",
        "# Output: 't'\n",
        "print(my_tuple[-1])\n",
        "\n",
        "# Output: 'p'\n",
        "print(my_tuple[-6])"
      ],
      "execution_count": 6,
      "outputs": [
        {
          "output_type": "stream",
          "name": "stdout",
          "text": [
            "t\n",
            "p\n"
          ]
        }
      ]
    },
    {
      "cell_type": "code",
      "metadata": {
        "id": "vnadefnt2jE7",
        "colab": {
          "base_uri": "https://localhost:8080/"
        },
        "outputId": "af00397f-0614-49ff-fa29-fe8530dc15bd"
      },
      "source": [
        "# Accessing tuple elements using slicing\n",
        "my_tuple = ('s','a','n','j','a','y','I','N','D')\n",
        "\n",
        "# elements 2nd to 4th\n",
        "# Output: ('r', 'o', 'g')\n",
        "print(my_tuple[1:4])\n",
        "\n",
        "# elements beginning to 2nd\n",
        "# Output: ('p', 'r')\n",
        "print(my_tuple[:-7])\n",
        "\n",
        "# elements 8th to end\n",
        "# Output: ('i', 'z')\n",
        "print(my_tuple[7:])\n",
        "\n",
        "# elements beginning to end\n",
        "# Output: ('p', 'r', 'o', 'g', 'r', 'a', 'm', 'i', 'z')\n",
        "print(my_tuple[:])"
      ],
      "execution_count": 7,
      "outputs": [
        {
          "output_type": "stream",
          "name": "stdout",
          "text": [
            "('a', 'n', 'j')\n",
            "('s', 'a')\n",
            "('N', 'D')\n",
            "('s', 'a', 'n', 'j', 'a', 'y', 'I', 'N', 'D')\n"
          ]
        }
      ]
    },
    {
      "cell_type": "code",
      "metadata": {
        "id": "0AGtTV_h2oF6",
        "colab": {
          "base_uri": "https://localhost:8080/"
        },
        "outputId": "ca4ffabc-ca42-475d-e176-846078ef9c82"
      },
      "source": [
        "# Changing tuple values\n",
        "my_tuple = (4, 2, 3, [6, 5])\n",
        "\n",
        "\n",
        "# However, item of mutable element can be changed\n",
        "my_tuple[3][0] = 9\n",
        "print(my_tuple)"
      ],
      "execution_count": 8,
      "outputs": [
        {
          "output_type": "stream",
          "name": "stdout",
          "text": [
            "(4, 2, 3, [9, 5])\n"
          ]
        }
      ]
    },
    {
      "cell_type": "code",
      "metadata": {
        "id": "XevTspiU2_BM",
        "colab": {
          "base_uri": "https://localhost:8080/"
        },
        "outputId": "ec26b73a-8272-48c5-a274-3f95ab432bd2"
      },
      "source": [
        "# Concatenation\n",
        "# Output: (1, 2, 3, 4, 5, 6)\n",
        "print((1, 2, 3) + (4, 5, 6))\n",
        "\n",
        "# Repeat\n",
        "# Output: ('Repeat', 'Repeat', 'Repeat')\n",
        "print((\"Repeat\",) * 3)"
      ],
      "execution_count": 9,
      "outputs": [
        {
          "output_type": "stream",
          "name": "stdout",
          "text": [
            "(1, 2, 3, 4, 5, 6)\n",
            "('Repeat', 'Repeat', 'Repeat')\n"
          ]
        }
      ]
    },
    {
      "cell_type": "markdown",
      "metadata": {
        "id": "6KTbpeHA3zcN"
      },
      "source": [
        "#Python Exception Handling\n",
        "Exceptions occur when something wrong happens in the code. The program stops immediately.\n",
        "Exceptions can be raised for multiple reasons. For e.g.\n",
        "\n",
        "ImportError - An import fails\n",
        "\n",
        "IndexError - A list is indexed with out of range error\n",
        "\n",
        "SytanxError - Some syntax error\n",
        "\n",
        "TypeError - A function is called with a wrong type of variable\n",
        "\n",
        "ValueError - A function is called with inappropriate value"
      ]
    },
    {
      "cell_type": "code",
      "metadata": {
        "id": "EnsDyBze4iXF",
        "colab": {
          "base_uri": "https://localhost:8080/"
        },
        "outputId": "bd5d7ade-7166-47a1-e2ab-0faed550332e"
      },
      "source": [
        "# To handle exceptions we use try/except statement. Try contains code that might throw an exception\n",
        "try:\n",
        "  num1 = 8\n",
        "  num2 = 0\n",
        "  x = num1/num2           # This line throws exception. The code stops immediately.\n",
        "  print (\"This statement will not be printed\") # This line is not executed.\n",
        "\n",
        "except ZeroDivisionError:\n",
        "   print (\"Zero Division Error\")"
      ],
      "execution_count": 10,
      "outputs": [
        {
          "output_type": "stream",
          "name": "stdout",
          "text": [
            "Zero Division Error\n"
          ]
        }
      ]
    },
    {
      "cell_type": "code",
      "metadata": {
        "id": "hDDfDKsX4tt9",
        "colab": {
          "base_uri": "https://localhost:8080/"
        },
        "outputId": "51b75352-164d-4e6b-d055-606f8c8084da"
      },
      "source": [
        "# A try statement can have multiple except blocks\n",
        "\n",
        "try:\n",
        "  variable = 10\n",
        "  print(variable+\"hello\")\n",
        "  print(variable/2)\n",
        "\n",
        "except ZeroDivisionError:\n",
        "  print(\"Divided by Zero\")\n",
        "except(ValueError, TypeError):\n",
        "  print(\"Error Occured\")\n"
      ],
      "execution_count": 11,
      "outputs": [
        {
          "output_type": "stream",
          "name": "stdout",
          "text": [
            "Error Occured\n"
          ]
        }
      ]
    },
    {
      "cell_type": "code",
      "metadata": {
        "id": "fSHjnsoX5MxR",
        "colab": {
          "base_uri": "https://localhost:8080/"
        },
        "outputId": "eba90c78-9279-4ae1-ca69-bc0f9fbe002e"
      },
      "source": [
        "# An except statement without any exception specified will catch all errors\n",
        "\n",
        "try:\n",
        "\n",
        "  4/0\n",
        "\n",
        "except:\n",
        "  print (\"Error Occured\")"
      ],
      "execution_count": 12,
      "outputs": [
        {
          "output_type": "stream",
          "name": "stdout",
          "text": [
            "Error Occured\n"
          ]
        }
      ]
    },
    {
      "cell_type": "code",
      "metadata": {
        "id": "ytFd54Oi5Ri_",
        "colab": {
          "base_uri": "https://localhost:8080/"
        },
        "outputId": "8481d023-14b6-47b6-bae6-326f1afdd114"
      },
      "source": [
        "# To ensure that code runs no matter a finally block will be used\n",
        "try:\n",
        "  print(\"Step 1\")\n",
        "  4/0                            # An exception happen here\n",
        "except ZeroDivisionError:        # The exception is caught here\n",
        "  print (\"Divided by Zero\")      # This is printed\n",
        "\n",
        "finally:\n",
        "  print(\"This will be always executed\")  # This will be executed whether there is exception or not"
      ],
      "execution_count": 13,
      "outputs": [
        {
          "output_type": "stream",
          "name": "stdout",
          "text": [
            "Step 1\n",
            "Divided by Zero\n",
            "This will be always executed\n"
          ]
        }
      ]
    },
    {
      "cell_type": "code",
      "metadata": {
        "id": "Autn9yKh5jnt",
        "colab": {
          "base_uri": "https://localhost:8080/"
        },
        "outputId": "d9b367a8-e749-45d5-988c-07df28d3827f"
      },
      "source": [
        "def my_func():\n",
        "  try:\n",
        "    4/0   # This raises ZeroDivisionError\n",
        "\n",
        "  except Exception as ex:\n",
        "    template = \"An exception of type {0} occurred. Arguments:\\n{1!r}\"\n",
        "    message = template.format(type(ex).__name__, ex.args)\n",
        "    print (message)\n",
        "    raise # The ZeroDivisionError is propogated out\n",
        "\n",
        "\n",
        "def another_func():\n",
        "  try:\n",
        "    my_func()\n",
        "  except ZeroDivisionError: # The ZeroDivisionError is caught\n",
        "      print ('Error')\n",
        "\n",
        "another_func()\n"
      ],
      "execution_count": 14,
      "outputs": [
        {
          "output_type": "stream",
          "name": "stdout",
          "text": [
            "An exception of type ZeroDivisionError occurred. Arguments:\n",
            "('division by zero',)\n",
            "Error\n"
          ]
        }
      ]
    },
    {
      "cell_type": "code",
      "metadata": {
        "id": "flyw1efJ5pul"
      },
      "source": [],
      "execution_count": 14,
      "outputs": []
    }
  ]
}